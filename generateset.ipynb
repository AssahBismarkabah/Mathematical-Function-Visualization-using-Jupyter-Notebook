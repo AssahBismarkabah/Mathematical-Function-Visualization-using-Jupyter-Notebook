{
 "cells": [
  {
   "cell_type": "code",
   "execution_count": null,
   "id": "17a40869-05b5-41de-bdcc-3e1336a56e3a",
   "metadata": {},
   "outputs": [],
   "source": [
    "import numpy as np\n",
    "import matplotlib.pyplot as plt\n",
    "# Generate a set of x-values using np.linspace ranging from -10 to 10\n",
    "x = np.linspace(-10, 10, 100)\n"
   ]
  }
 ],
 "metadata": {
  "kernelspec": {
   "display_name": "Python 3 (ipykernel)",
   "language": "python",
   "name": "python3"
  },
  "language_info": {
   "codemirror_mode": {
    "name": "ipython",
    "version": 3
   },
   "file_extension": ".py",
   "mimetype": "text/x-python",
   "name": "python",
   "nbconvert_exporter": "python",
   "pygments_lexer": "ipython3",
   "version": "3.10.12"
  }
 },
 "nbformat": 4,
 "nbformat_minor": 5
}
